{
  "nbformat": 4,
  "nbformat_minor": 0,
  "metadata": {
    "colab": {
      "name": "alexander_mueller_p1.ipynb",
      "version": "0.3.2",
      "provenance": [],
      "collapsed_sections": [],
      "include_colab_link": true
    },
    "language_info": {
      "codemirror_mode": {
        "name": "ipython",
        "version": 2
      },
      "file_extension": ".py",
      "mimetype": "text/x-python",
      "name": "python",
      "nbconvert_exporter": "python",
      "pygments_lexer": "ipython2",
      "version": "2.7.15"
    },
    "kernelspec": {
      "name": "python2",
      "display_name": "Python 2"
    },
    "accelerator": "GPU"
  },
  "cells": [
    {
      "cell_type": "markdown",
      "metadata": {
        "id": "view-in-github",
        "colab_type": "text"
      },
      "source": [
        "<a href=\"https://colab.research.google.com/github/alekstoteles/UCB/blob/master/alexander_mueller_p1.ipynb\" target=\"_parent\"><img src=\"https://colab.research.google.com/assets/colab-badge.svg\" alt=\"Open In Colab\"/></a>"
      ]
    },
    {
      "cell_type": "markdown",
      "metadata": {
        "id": "CjUJGz_wLkTk",
        "colab_type": "text"
      },
      "source": [
        "# Project 1: Digit Classification with KNN and Naive Bayes"
      ]
    },
    {
      "cell_type": "markdown",
      "metadata": {
        "id": "o9noHi1SLkTm",
        "colab_type": "text"
      },
      "source": [
        "In this project, you'll implement your own image recognition system for classifying digits. Read through the code and the instructions carefully and add your own code where indicated. Each problem can be addressed succinctly with the included packages -- please don't add any more. Grading will be based on writing clean, commented code, along with a few short answers.\n",
        "\n",
        "As always, you're welcome to work on the project in groups and discuss ideas on the course wall, but <b> please prepare your own write-up (with your own code). </b>\n",
        "\n",
        "If you're interested, check out these links related to digit recognition:\n",
        "\n",
        "Yann Lecun's MNIST benchmarks: http://yann.lecun.com/exdb/mnist/\n",
        "\n",
        "Stanford Streetview research and data: http://ufldl.stanford.edu/housenumbers/"
      ]
    },
    {
      "cell_type": "code",
      "metadata": {
        "id": "CG1rsda4LkTn",
        "colab_type": "code",
        "colab": {}
      },
      "source": [
        "# This tells matplotlib not to try opening a new window for each plot.\n",
        "%matplotlib inline\n",
        "\n",
        "# Import a bunch of libraries.\n",
        "import time\n",
        "import numpy as np\n",
        "import matplotlib.pyplot as plt\n",
        "from matplotlib.ticker import MultipleLocator\n",
        "from sklearn.pipeline import Pipeline\n",
        "from sklearn.datasets import fetch_openml\n",
        "from sklearn.neighbors import KNeighborsClassifier\n",
        "from sklearn.metrics import confusion_matrix\n",
        "from sklearn.linear_model import LinearRegression\n",
        "from sklearn.naive_bayes import BernoulliNB\n",
        "from sklearn.naive_bayes import MultinomialNB\n",
        "from sklearn.naive_bayes import GaussianNB\n",
        "from sklearn.model_selection import GridSearchCV\n",
        "from sklearn.metrics import classification_report\n",
        "\n",
        "# Set the randomizer seed so results are the same each time.\n",
        "np.random.seed(0)"
      ],
      "execution_count": 0,
      "outputs": []
    },
    {
      "cell_type": "markdown",
      "metadata": {
        "id": "X9M9bvyjLkTq",
        "colab_type": "text"
      },
      "source": [
        "Load the data. Notice that we are splitting the data into training, development, and test. We also have a small subset of the training data called mini_train_data and mini_train_labels that you should use in all the experiments below, unless otherwise noted."
      ]
    },
    {
      "cell_type": "code",
      "metadata": {
        "id": "Zf1UoZcOLkTr",
        "colab_type": "code",
        "outputId": "68b66241-4c8a-42b8-c6f6-492d34461ba6",
        "colab": {
          "base_uri": "https://localhost:8080/",
          "height": 51
        }
      },
      "source": [
        "# Load the digit data from https://www.openml.org/d/554 or from default local location '~/scikit_learn_data/...'\n",
        "X, Y = fetch_openml(name='mnist_784', return_X_y=True, cache=False)\n",
        "\n",
        "\n",
        "# Rescale grayscale values to [0,1].\n",
        "X = X / 255.0\n",
        "\n",
        "# Shuffle the input: create a random permutation of the integers between 0 and the number of data points and apply this\n",
        "# permutation to X and Y.\n",
        "# NOTE: Each time you run this cell, you'll re-shuffle the data, resulting in a different ordering.\n",
        "shuffle = np.random.permutation(np.arange(X.shape[0]))\n",
        "X, Y = X[shuffle], Y[shuffle]\n",
        "\n",
        "print 'data shape: ', X.shape\n",
        "print 'label shape:', Y.shape\n",
        "\n",
        "# Set some variables to hold test, dev, and training data.\n",
        "test_data, test_labels = X[61000:], Y[61000:]\n",
        "dev_data, dev_labels = X[60000:61000], Y[60000:61000]\n",
        "train_data, train_labels = X[:60000], Y[:60000]\n",
        "mini_train_data, mini_train_labels = X[:1000], Y[:1000]"
      ],
      "execution_count": 73,
      "outputs": [
        {
          "output_type": "stream",
          "text": [
            "data shape:  (70000, 784)\n",
            "label shape: (70000,)\n"
          ],
          "name": "stdout"
        }
      ]
    },
    {
      "cell_type": "markdown",
      "metadata": {
        "id": "LBMg6pp2LkTw",
        "colab_type": "text"
      },
      "source": [
        "(1) Create a 10x10 grid to visualize 10 examples of each digit. Python hints:\n",
        "\n",
        "- plt.rc() for setting the colormap, for example to black and white\n",
        "- plt.subplot() for creating subplots\n",
        "- plt.imshow() for rendering a matrix\n",
        "- np.array.reshape() for reshaping a 1D feature vector into a 2D matrix (for rendering)"
      ]
    },
    {
      "cell_type": "code",
      "metadata": {
        "id": "RGIM1tULd1CC",
        "colab_type": "code",
        "outputId": "6233dce1-06b1-47ea-c5a3-2bc168bd12e0",
        "colab": {
          "base_uri": "https://localhost:8080/",
          "height": 595
        }
      },
      "source": [
        "def P1(num_examples=10):\n",
        "\n",
        "### STUDENT START ###\n",
        "\n",
        "  # Create an empty array to store image data, sorted by digit\n",
        "  digit_entries = np.empty((0, 784))\n",
        "  # Iterate through digits 0-9\n",
        "  for number in range(0,num_examples):\n",
        "    # Boolean filter to locate digits (from the labels)\n",
        "    filter_array = (mini_train_labels == str(number))\n",
        "    # Apply boolean filter to training data, and append the first 10 entries\n",
        "    filtered_array = mini_train_data[filter_array][:num_examples]\n",
        "    digit_entries = np.append(digit_entries, filtered_array, axis=0)\n",
        "  # Reshape vector into 2D matrix for rendering\n",
        "  images = [item.reshape(28,28) for item in digit_entries]\n",
        "  row_images = [] \n",
        "  # Data selection and transformation for visualization\n",
        "  for row in range(num_examples):\n",
        "    rimages = images[row * num_examples : (row + 1) * num_examples]\n",
        "    row_images.append(np.concatenate(rimages, axis = 1))    \n",
        "  image = np.concatenate(row_images, axis = 0) \n",
        "  plt.imshow(image, cmap = plt.cm.binary, interpolation = 'nearest')\n",
        "  plt.axis('off')\n",
        "  return\n",
        "plt.figure(figsize=(10,10))\n",
        "\n",
        "### STUDENT END ###\n",
        "\n",
        "P1(10)"
      ],
      "execution_count": 74,
      "outputs": [
        {
          "output_type": "display_data",
          "data": {
            "image/png": "[encoded data removed]",
            "text/plain": [
              "<Figure size 720x720 with 1 Axes>"
            ]
          },
          "metadata": {
            "tags": []
          }
        }
      ]
    },
    {
      "cell_type": "markdown",
      "metadata": {
        "id": "AhcEgB5BLkTz",
        "colab_type": "text"
      },
      "source": [
        "(2) Evaluate a K-Nearest-Neighbors model with k = [1,3,5,7,9] using the mini training set. Report accuracy on the dev set. For k=1, show precision, recall, and F1 for each label. Which is the most difficult digit?\n",
        "\n",
        "- KNeighborsClassifier() for fitting and predicting\n",
        "- classification_report() for producing precision, recall, F1 results"
      ]
    },
    {
      "cell_type": "code",
      "metadata": {
        "id": "EVEn_N1uLkT0",
        "colab_type": "code",
        "outputId": "c77ae701-cf8a-460e-fadb-c40749c9351a",
        "colab": {
          "base_uri": "https://localhost:8080/",
          "height": 459
        }
      },
      "source": [
        "def P2(k_values):\n",
        "\n",
        "### STUDENT START ###\n",
        "  # Accuracy score calculation\n",
        "  print(\"Accuracy scores for classifier KNN\")\n",
        "  for k in k_values:\n",
        "    neigh = KNeighborsClassifier(n_neighbors=k)\n",
        "    neigh.fit(mini_train_data, mini_train_labels)\n",
        "    print(\"Accuracy score for k={}: {}\".format(k, neigh.score(dev_data, dev_labels)))\n",
        "  # Classification report\n",
        "  print(\"\\n\\nClassification report for classifier KNN (k=1)\")\n",
        "  neigh = KNeighborsClassifier(n_neighbors=1)\n",
        "  neigh.fit(mini_train_data, mini_train_labels)\n",
        "  dev_pred = neigh.predict(dev_data)\n",
        "  labels = [i for i in range(0,10)]\n",
        "  print(classification_report(dev_labels, dev_pred, labels=labels))\n",
        "  # Optional code: Confusion matrix\n",
        "  # print(\"\\n\\nConfusion matrix for classifier KNN (k=1)\")\n",
        "  # print(confusion_matrix(dev_labels, dev_pred))  \n",
        "    \n",
        "### STUDENT END ###\n",
        "\n",
        "k_values = [1, 3, 5, 7, 9]\n",
        "P2(k_values)"
      ],
      "execution_count": 75,
      "outputs": [
        {
          "output_type": "stream",
          "text": [
            "Accuracy scores for classifier KNN\n",
            "Accuracy score for k=1: 0.884\n",
            "Accuracy score for k=3: 0.876\n",
            "Accuracy score for k=5: 0.882\n",
            "Accuracy score for k=7: 0.877\n",
            "Accuracy score for k=9: 0.875\n",
            "\n",
            "\n",
            "Classification report for classifier KNN (k=1)\n",
            "              precision    recall  f1-score   support\n",
            "\n",
            "           0       0.95      0.95      0.95       106\n",
            "           1       0.89      0.98      0.93       118\n",
            "           2       0.90      0.79      0.84       106\n",
            "           3       0.93      0.87      0.90        97\n",
            "           4       0.91      0.85      0.88        92\n",
            "           5       0.86      0.88      0.87        88\n",
            "           6       0.92      0.92      0.92       102\n",
            "           7       0.85      0.94      0.89       102\n",
            "           8       0.83      0.77      0.80        94\n",
            "           9       0.80      0.86      0.83        95\n",
            "\n",
            "   micro avg       0.88      0.88      0.88      1000\n",
            "   macro avg       0.88      0.88      0.88      1000\n",
            "weighted avg       0.89      0.88      0.88      1000\n",
            "\n"
          ],
          "name": "stdout"
        }
      ]
    },
    {
      "cell_type": "markdown",
      "metadata": {
        "id": "VFAIEZi9LkT2",
        "colab_type": "text"
      },
      "source": [
        "ANSWER: The answer depends on our priorities - we can either prioritize precision or recall, or strike a balance by using the F1-score (the harmonic mean of precision and recall). Since we do not know anything about our use-case, we focus on the F1 score, which favors classifiers with similar precision and recall. From this, we can see that the digit '8' is the most difficult (F1 score of 0.8). Looking at the confusion matrix (optional code included) we find that '8' is often misclassified as '1', '2' or '9'."
      ]
    },
    {
      "cell_type": "markdown",
      "metadata": {
        "id": "hFukiUp5LkT3",
        "colab_type": "text"
      },
      "source": [
        "(3) Using k=1, report dev set accuracy for the training set sizes below. Also, measure the amount of time needed for prediction with each training size.\n",
        "\n",
        "- time.time() gives a wall clock value you can use for timing operations"
      ]
    },
    {
      "cell_type": "code",
      "metadata": {
        "id": "KtaIb60LLkT4",
        "colab_type": "code",
        "colab": {
          "base_uri": "https://localhost:8080/",
          "height": 493
        },
        "outputId": "3e06a217-bdde-4548-d889-de009b15cb81"
      },
      "source": [
        "def P3(train_sizes, accuracies):\n",
        "\n",
        "### STUDENT START ###\n",
        "\n",
        "    for size in train_sizes:\n",
        "        # Define training set for different train_sizes\n",
        "        train_data_var, train_labels_var = X[:size], Y[:size]\n",
        "        start = time.time()\n",
        "        # Fit classifier KNN with k=1\n",
        "        neigh = KNeighborsClassifier(n_neighbors=1)\n",
        "        neigh.fit(train_data_var, train_labels_var)\n",
        "        end = time.time()\n",
        "        elapsed = end - start\n",
        "        # Calculate accuracy score\n",
        "        score = neigh.score(dev_data, dev_labels)\n",
        "        accuracies.append(score)\n",
        "        print(\"Accuracy score for training set size {}: {}\".format(size, score))\n",
        "        print(\"Elapsed time: {0:4f} seconds\\n\".format(elapsed))\n",
        "    return accuracies\n",
        "\n",
        "\n",
        "### STUDENT END ###\n",
        "\n",
        "train_sizes = [100, 200, 400, 800, 1600, 3200, 6400, 12800, 25000]\n",
        "accuracies = []\n",
        "P3(train_sizes, accuracies)"
      ],
      "execution_count": 76,
      "outputs": [
        {
          "output_type": "stream",
          "text": [
            "Accuracy score for training set size 100: 0.702\n",
            "Elapsed time: 0.001129 seconds\n",
            "\n",
            "Accuracy score for training set size 200: 0.791\n",
            "Elapsed time: 0.001787 seconds\n",
            "\n",
            "Accuracy score for training set size 400: 0.811\n",
            "Elapsed time: 0.004332 seconds\n",
            "\n",
            "Accuracy score for training set size 800: 0.866\n",
            "Elapsed time: 0.009782 seconds\n",
            "\n",
            "Accuracy score for training set size 1600: 0.905\n",
            "Elapsed time: 0.028036 seconds\n",
            "\n",
            "Accuracy score for training set size 3200: 0.927\n",
            "Elapsed time: 0.103427 seconds\n",
            "\n",
            "Accuracy score for training set size 6400: 0.939\n",
            "Elapsed time: 0.359986 seconds\n",
            "\n",
            "Accuracy score for training set size 12800: 0.952\n",
            "Elapsed time: 1.299575 seconds\n",
            "\n",
            "Accuracy score for training set size 25000: 0.962\n",
            "Elapsed time: 4.602003 seconds\n",
            "\n"
          ],
          "name": "stdout"
        },
        {
          "output_type": "execute_result",
          "data": {
            "text/plain": [
              "[0.702, 0.791, 0.811, 0.866, 0.905, 0.927, 0.939, 0.952, 0.962]"
            ]
          },
          "metadata": {
            "tags": []
          },
          "execution_count": 76
        }
      ]
    },
    {
      "cell_type": "markdown",
      "metadata": {
        "id": "oSOuTEQYLkT6",
        "colab_type": "text"
      },
      "source": [
        "(4) Fit a regression model that predicts accuracy from training size. What does it predict for n=60000? What's wrong with using regression here? Can you apply a transformation that makes the predictions more reasonable?\n",
        "\n",
        "- Remember that the sklearn fit() functions take an input matrix X and output vector Y. So each input example in X is a vector, even if it contains only a single value."
      ]
    },
    {
      "cell_type": "code",
      "metadata": {
        "id": "a9ASg8RBLkT7",
        "colab_type": "code",
        "colab": {
          "base_uri": "https://localhost:8080/",
          "height": 68
        },
        "outputId": "d0c55489-6277-492a-f3cf-f57dab6dbbc4"
      },
      "source": [
        "def P4(pred_size):\n",
        "\n",
        "### STUDENT START ###\n",
        "    # Reshape features and labels as np arrays, to match required input of sklearn linear model\n",
        "    x = np.asarray(train_sizes).reshape(-1,1)\n",
        "    y = np.asarray(accuracies).reshape(-1,1)\n",
        "    # Fit linear model to data\n",
        "    reg = LinearRegression()\n",
        "    reg.fit(x, y)\n",
        "    print(\"Slope coefficient of estimator: {}\".format(reg.coef_))\n",
        "    print(\"R2 score: {}\".format(reg.score(x, y)))\n",
        "    # Predict regressand\n",
        "    prediction = reg.predict(np.array([[pred_size]]))\n",
        "    # Cap accuracy value at max 1\n",
        "    if pred_size > 1:\n",
        "      prediction = 1\n",
        "    print(\"Prediction for n={}: {}\".format(pred_size, prediction))\n",
        "    \n",
        "\n",
        "### STUDENT END ###\n",
        "\n",
        "P4(60000)"
      ],
      "execution_count": 77,
      "outputs": [
        {
          "output_type": "stream",
          "text": [
            "Slope coefficient of estimator: [[6.83806142e-06]]\n",
            "R2 score: 0.420268152171\n",
            "Prediction for n=60000: 1\n"
          ],
          "name": "stdout"
        }
      ]
    },
    {
      "cell_type": "markdown",
      "metadata": {
        "id": "6n2wYXxkLkT9",
        "colab_type": "text"
      },
      "source": [
        "ANSWER: The regression output returns values greater than 1, which is not feasible given that accuracy can not exceed 1. Since we do not know at which threshold the predictor converges to accuracy 1, I have decided to cap the accuracy at 1."
      ]
    },
    {
      "cell_type": "markdown",
      "metadata": {
        "id": "yGk9dilqLkT_",
        "colab_type": "text"
      },
      "source": [
        "(5) Fit a 1-NN and output a confusion matrix for the dev data. Use the confusion matrix to identify the most confused pair of digits, and display a few example mistakes.\n",
        "\n",
        "- confusion_matrix() produces a confusion matrix"
      ]
    },
    {
      "cell_type": "code",
      "metadata": {
        "id": "lZBenYQDLkUA",
        "colab_type": "code",
        "outputId": "60c5a803-61de-49eb-f960-858f4230c64d",
        "colab": {
          "base_uri": "https://localhost:8080/",
          "height": 238
        }
      },
      "source": [
        "def P5():\n",
        "\n",
        "### STUDENT START ###\n",
        "\n",
        "  neigh = KNeighborsClassifier(n_neighbors=1)\n",
        "  neigh.fit(mini_train_data, mini_train_labels)\n",
        "  dev_pred = neigh.predict(dev_data)\n",
        "  print(\"\\n\\nConfusion matrix for classifier KNN (k=1)\")\n",
        "  print(confusion_matrix(dev_labels, dev_pred))  \n",
        "\n",
        "    \n",
        "### STUDENT END ###\n",
        "\n",
        "P5()"
      ],
      "execution_count": 78,
      "outputs": [
        {
          "output_type": "stream",
          "text": [
            "\n",
            "\n",
            "Confusion matrix for classifier KNN (k=1)\n",
            "[[101   0   1   0   0   0   1   1   2   0]\n",
            " [  0 116   1   0   0   0   0   0   1   0]\n",
            " [  1   4  84   2   2   0   2   4   6   1]\n",
            " [  0   2   0  84   0   6   0   2   3   0]\n",
            " [  0   0   1   0  78   0   0   2   0  11]\n",
            " [  2   0   0   1   1  77   5   0   2   0]\n",
            " [  1   2   1   0   1   2  94   0   1   0]\n",
            " [  0   1   1   0   0   0   0  96   0   4]\n",
            " [  1   5   4   3   1   3   0   1  72   4]\n",
            " [  0   1   0   0   3   2   0   7   0  82]]\n"
          ],
          "name": "stdout"
        }
      ]
    },
    {
      "cell_type": "markdown",
      "metadata": {
        "id": "ldS9tu6X0pri",
        "colab_type": "text"
      },
      "source": [
        "From the confusion matrix we can see that:\n",
        "*   '4' is often misclassified as '9'\n",
        "*   '9' is often misclassified as '7'\n",
        "*   '2' is often misclassified as '8'\n",
        "*   '3' is often misclassified as '5'\n",
        "\n",
        "\n"
      ]
    },
    {
      "cell_type": "code",
      "metadata": {
        "id": "Y7plO6Al0hu1",
        "colab_type": "code",
        "outputId": "00fbcdbf-4e2d-43fd-dd2c-b33facd4fb89",
        "colab": {
          "base_uri": "https://localhost:8080/",
          "height": 125
        }
      },
      "source": [
        "neigh = KNeighborsClassifier(n_neighbors=1)\n",
        "neigh.fit(mini_train_data, mini_train_labels)\n",
        "dev_pred = neigh.predict(dev_data)\n",
        "\n",
        "cl_a = \"4\"\n",
        "cl_b = \"9\"\n",
        "X_aa = dev_data[(dev_labels == cl_a) & (dev_pred == cl_b)]\n",
        "\n",
        "\n",
        "images = [item.reshape(28,28) for item in X_aa]\n",
        "row_images = [] \n",
        "# Data selection and transformation for visualization\n",
        "for row in range(1):\n",
        "  rimages = images[0 : 11]\n",
        "  row_images.append(np.concatenate(rimages, axis = 1))    \n",
        "image = np.concatenate(row_images, axis = 0) \n",
        "plt.figure(figsize=(12,8))\n",
        "plt.title(\"Example mistakes: '4' classified as '9'\")\n",
        "plt.imshow(image, cmap = plt.cm.binary, interpolation = 'nearest')\n",
        "plt.axis('off')\n",
        "pass\n",
        "\n",
        "\n"
      ],
      "execution_count": 79,
      "outputs": [
        {
          "output_type": "display_data",
          "data": {
            "image/png": "[encoded data removed]",
            "text/plain": [
              "<Figure size 864x576 with 1 Axes>"
            ]
          },
          "metadata": {
            "tags": []
          }
        }
      ]
    },
    {
      "cell_type": "markdown",
      "metadata": {
        "id": "4nixfswpLkUC",
        "colab_type": "text"
      },
      "source": [
        "(6) A common image processing technique is to smooth an image by blurring. The idea is that the value of a particular pixel is estimated as the weighted combination of the original value and the values around it. Typically, the blurring is Gaussian -- that is, the weight of a pixel's influence is determined by a Gaussian function over the distance to the relevant pixel.\n",
        "\n",
        "Implement a simplified Gaussian blur by just using the 8 neighboring pixels: the smoothed value of a pixel is a weighted combination of the original value and the 8 neighboring values. Try applying your blur filter in 3 ways:\n",
        "- preprocess the training data but not the dev data\n",
        "- preprocess the dev data but not the training data\n",
        "- preprocess both training and dev data\n",
        "\n",
        "Note that there are Guassian blur filters available, for example in scipy.ndimage.filters. You're welcome to experiment with those, but you are likely to get the best results with the simplified version I described above."
      ]
    },
    {
      "cell_type": "code",
      "metadata": {
        "id": "dQQXcH8YLkUD",
        "colab_type": "code",
        "colab": {}
      },
      "source": [
        "# def P6():\n",
        "    \n",
        "### STUDENT START ###\n",
        "\n",
        "\n",
        "### STUDENT END ###\n",
        "\n",
        "# P6()"
      ],
      "execution_count": 0,
      "outputs": []
    },
    {
      "cell_type": "markdown",
      "metadata": {
        "id": "5d8F0JgvLkUF",
        "colab_type": "text"
      },
      "source": [
        "ANSWER:"
      ]
    },
    {
      "cell_type": "markdown",
      "metadata": {
        "id": "W1z-ZaYoLkUF",
        "colab_type": "text"
      },
      "source": [
        "(7) Fit a Naive Bayes classifier and report accuracy on the dev data. Remember that Naive Bayes estimates P(feature|label). While sklearn can handle real-valued features, let's start by mapping the pixel values to either 0 or 1. You can do this as a preprocessing step, or with the binarize argument. With binary-valued features, you can use BernoulliNB. Next try mapping the pixel values to 0, 1, or 2, representing white, grey, or black. This mapping requires MultinomialNB. Does the multi-class version improve the results? Why or why not?"
      ]
    },
    {
      "cell_type": "code",
      "metadata": {
        "id": "gFr5Q97TLkUG",
        "colab_type": "code",
        "colab": {
          "base_uri": "https://localhost:8080/",
          "height": 34
        },
        "outputId": "0bdfcaec-9273-475a-a063-406a3ffbb825"
      },
      "source": [
        "def P7():\n",
        "\n",
        "### STUDENT START ###\n",
        "  # Fitting a Naive Bayes classifier\n",
        "  gnb = GaussianNB()\n",
        "  gnb.fit(mini_train_data, mini_train_labels)\n",
        "  # Reporting accuracy on the dev data\n",
        "  print(\"Accuracy score of Gaussian Naive Bayes on dev data: {}\".format(gnb.score(dev_data, dev_labels)))\n",
        "\n",
        "    \n",
        "### STUDENT END ###\n",
        "\n",
        "P7()"
      ],
      "execution_count": 81,
      "outputs": [
        {
          "output_type": "stream",
          "text": [
            "Accuracy score of Gaussian Naive Bayes on dev data: 0.593\n"
          ],
          "name": "stdout"
        }
      ]
    },
    {
      "cell_type": "code",
      "metadata": {
        "id": "J-bJuhJHAj0K",
        "colab_type": "code",
        "colab": {
          "base_uri": "https://localhost:8080/",
          "height": 34
        },
        "outputId": "6ec4c571-ba43-4a08-8184-ae7bee27b342"
      },
      "source": [
        "def PBernoulli():\n",
        "\n",
        "### STUDENT START ###\n",
        "  # Fitting Bernoulli Naive Bayes classifier, setting threshold for binarization to 0.0\n",
        "  bnb = BernoulliNB(binarize=0.0)\n",
        "  bnb.fit(mini_train_data, mini_train_labels)\n",
        "  # Reporting accuracy on the dev data\n",
        "  print(\"Accuracy score of Bernoulli Naive Bayes on dev data (binarization threshold = 0.0): {}\"\\\n",
        "        .format(bnb.score(dev_data, dev_labels)))\n",
        "\n",
        "    \n",
        "### STUDENT END ###\n",
        "\n",
        "PBernoulli()"
      ],
      "execution_count": 82,
      "outputs": [
        {
          "output_type": "stream",
          "text": [
            "Accuracy score of Bernoulli Naive Bayes on dev data (binarization threshold = 0.0): 0.809\n"
          ],
          "name": "stdout"
        }
      ]
    },
    {
      "cell_type": "code",
      "metadata": {
        "id": "DKMKpgEXDUCe",
        "colab_type": "code",
        "colab": {
          "base_uri": "https://localhost:8080/",
          "height": 34
        },
        "outputId": "808b1cf2-48a7-4332-ddf8-52192304cb92"
      },
      "source": [
        "### STUDENT START ###\n",
        "\n",
        "def PMultinomialNB():\n",
        "  # Fitting a Multinomial Naive Bayes Classifier\n",
        "  mnb = MultinomialNB()\n",
        "  mnb.fit(mini_train_data_2, mini_train_labels)\n",
        "  # Reporting accuracy on the binarized dev data\n",
        "  print(\"Accuracy score of Multinomial Naive Bayes on dev data (binarization thresholds = 0.0, 1.0, 2.0): {}\"\\\n",
        "        .format(mnb.score(dev_data_2, dev_labels)))\n",
        "    \n",
        "# Binarization preprocessing\n",
        "mini_train_data_2 = np.copy(mini_train_data)\n",
        "dev_data_2 = np.copy(dev_data)\n",
        "\n",
        "def binarize(data):\n",
        "  # All normalized greyscale values >0.9 count as \"black\"\n",
        "  data[np.where(data > 0.9)] = 2\n",
        "  # The remaining non-zero pixel values count as \"grey\"\n",
        "  data[np.where((data > 0.0) & (data <= 0.9))] = 1\n",
        "  return data\n",
        "\n",
        "\n",
        "mini_train_data_2 = binarize(mini_train_data_2)\n",
        "dev_data_2 = binarize(dev_data_2)\n",
        "\n",
        "### STUDENT END ###\n",
        "\n",
        "PMultinomialNB()"
      ],
      "execution_count": 83,
      "outputs": [
        {
          "output_type": "stream",
          "text": [
            "Accuracy score of Multinomial Naive Bayes on dev data (binarization thresholds = 0.0, 1.0, 2.0): 0.803\n"
          ],
          "name": "stdout"
        }
      ]
    },
    {
      "cell_type": "markdown",
      "metadata": {
        "id": "qH_-xsd4LkUI",
        "colab_type": "text"
      },
      "source": [
        "ANSWER: \n",
        "  * The binarized Bernoulli Naive Bayes classifier performs better than the Gaussian Naive Bayes classifier. Apparently, the classification profits from a classifier which just distinguished between black (or grey) and white pixel values.\n",
        "  * The Multinomial Naive Bayes classifier (where I classified black as the normalized pixel values >0.9, and grey as the non-zero remainder) does not improve accuracy. Apparently the \"grey pixel\" information is not helpful for improving the classfier result."
      ]
    },
    {
      "cell_type": "markdown",
      "metadata": {
        "id": "tnLL2tC_LkUI",
        "colab_type": "text"
      },
      "source": [
        "(8) Use GridSearchCV to perform a search over values of alpha (the Laplace smoothing parameter) in a Bernoulli NB model. What is the best value for alpha? What is the accuracy when alpha=0? Is this what you'd expect?\n",
        "\n",
        "- Note that GridSearchCV partitions the training data so the results will be a bit different than if you used the dev data for evaluation."
      ]
    },
    {
      "cell_type": "code",
      "metadata": {
        "id": "slANjobgLkUJ",
        "colab_type": "code",
        "colab": {
          "base_uri": "https://localhost:8080/",
          "height": 102
        },
        "outputId": "4b9c1036-5fbf-4a32-999d-c48497ed76b9"
      },
      "source": [
        "def P8(alphas):\n",
        "\n",
        "### STUDENT START ###\n",
        "  param_grid = [{'alpha': alphas['alpha']}]\n",
        "  bnb = BernoulliNB()\n",
        "  grid_search = GridSearchCV(bnb, param_grid, cv=5, return_train_score=False)\n",
        "  \n",
        "  grid_search.fit(dev_data, dev_labels)\n",
        "  \n",
        "  return grid_search\n",
        "\n",
        "### STUDENT END ###\n",
        "\n",
        "alphas = {'alpha': [0.0, 0.0001, 0.001, 0.01, 0.1, 0.5, 1.0, 2.0, 10.0]}\n",
        "nb = P8(alphas)\n",
        "print(\"Best estimator = {}\".format(nb.best_estimator_))\n",
        "print(\"Best parameter setting = {}\".format(nb.best_params_))\n",
        "print(\"Best accuracy score: {}\".format(nb.best_score_))\n",
        "\n",
        "# print(\"\\nAll test results: {}\".format(nb.cv_results_))\n",
        "\n",
        "print(\"\\nAccuracy for parameter 'alpha = 0': {}\".format(nb.cv_results_['mean_test_score'][0]))\n"
      ],
      "execution_count": 84,
      "outputs": [
        {
          "output_type": "stream",
          "text": [
            "Best estimator = BernoulliNB(alpha=0.1, binarize=0.0, class_prior=None, fit_prior=True)\n",
            "Best parameter setting = {'alpha': 0.1}\n",
            "Best accuracy score: 0.804\n",
            "\n",
            "Accuracy for parameter 'alpha = 0': 0.795\n"
          ],
          "name": "stdout"
        }
      ]
    },
    {
      "cell_type": "markdown",
      "metadata": {
        "id": "cY4gNiuNLkUO",
        "colab_type": "text"
      },
      "source": [
        "ANSWER: Laplace smoothing adds \"pseudocounts\" of observed cases in order to allow for unforeseen events to the distribution. This makes the prior distribution more uniform compared to the non-smoothed alternative. In the case above, the accuracy for alpha = 0 (no smoothing) is slightly lower, indicating that regularization does have a small effect. Our model is better able to generalize to examples which it has not seen before."
      ]
    },
    {
      "cell_type": "markdown",
      "metadata": {
        "id": "PNCf7eEKLkUP",
        "colab_type": "text"
      },
      "source": [
        "(9) Try training a model using GuassianNB, which is intended for real-valued features, and evaluate on the dev data. You'll notice that it doesn't work so well. Try to diagnose the problem. You should be able to find a simple fix that returns the accuracy to around the same rate as BernoulliNB. Explain your solution.\n",
        "\n",
        "Hint: examine the parameters estimated by the fit() method, theta\\_ and sigma\\_."
      ]
    },
    {
      "cell_type": "code",
      "metadata": {
        "id": "7mvGktkrLkUP",
        "colab_type": "code",
        "colab": {
          "base_uri": "https://localhost:8080/",
          "height": 428
        },
        "outputId": "9f764f99-eba5-40b9-8c19-e389634ef5de"
      },
      "source": [
        "def P9():\n",
        "\n",
        "### STUDENT END ###\n",
        "\n",
        "  # Fitting a Naive Bayes classifier\n",
        "  gnb = GaussianNB()\n",
        "  gnb.fit(mini_train_data, mini_train_labels)\n",
        "  # Reporting accuracy on the dev data\n",
        "  print(\"Accuracy score of Gaussian Naive Bayes on dev data: {}\".format(gnb.score(dev_data, dev_labels)))\n",
        "  return gnb\n",
        "\n",
        "### STUDENT END ###\n",
        "\n",
        "gnb = P9()\n",
        "print(\"Theta (mean of each feature per class) of Gaussian Naive Bayes Classifier: {}\".format(gnb.theta_))\n",
        "print(\"Sigma (variance of feature per class) of Gaussian Naive Bayes Classifier: {}\".format(gnb.sigma_))\n",
        "print(\"Class count (# training samples for each class): {}\".format(gnb.class_count_))\n",
        "print(\"Probability of each class: {}\".format(gnb.class_prior_))"
      ],
      "execution_count": 85,
      "outputs": [
        {
          "output_type": "stream",
          "text": [
            "Accuracy score of Gaussian Naive Bayes on dev data: 0.593\n",
            "Theta (mean of each feature per class) of Gaussian Naive Bayes Classifier: [[0. 0. 0. ... 0. 0. 0.]\n",
            " [0. 0. 0. ... 0. 0. 0.]\n",
            " [0. 0. 0. ... 0. 0. 0.]\n",
            " ...\n",
            " [0. 0. 0. ... 0. 0. 0.]\n",
            " [0. 0. 0. ... 0. 0. 0.]\n",
            " [0. 0. 0. ... 0. 0. 0.]]\n",
            "Sigma (variance of feature per class) of Gaussian Naive Bayes Classifier: [[2.01433307e-10 2.01433307e-10 2.01433307e-10 ... 2.01433307e-10\n",
            "  2.01433307e-10 2.01433307e-10]\n",
            " [2.01433307e-10 2.01433307e-10 2.01433307e-10 ... 2.01433307e-10\n",
            "  2.01433307e-10 2.01433307e-10]\n",
            " [2.01433307e-10 2.01433307e-10 2.01433307e-10 ... 2.01433307e-10\n",
            "  2.01433307e-10 2.01433307e-10]\n",
            " ...\n",
            " [2.01433307e-10 2.01433307e-10 2.01433307e-10 ... 2.01433307e-10\n",
            "  2.01433307e-10 2.01433307e-10]\n",
            " [2.01433307e-10 2.01433307e-10 2.01433307e-10 ... 2.01433307e-10\n",
            "  2.01433307e-10 2.01433307e-10]\n",
            " [2.01433307e-10 2.01433307e-10 2.01433307e-10 ... 2.01433307e-10\n",
            "  2.01433307e-10 2.01433307e-10]]\n",
            "Class count (# training samples for each class): [ 91.  96.  91. 103.  97.  84. 106. 116. 123.  93.]\n",
            "Probability of each class: [0.091 0.096 0.091 0.103 0.097 0.084 0.106 0.116 0.123 0.093]\n"
          ],
          "name": "stdout"
        }
      ]
    },
    {
      "cell_type": "markdown",
      "metadata": {
        "id": "-JBR4VJ6LkUR",
        "colab_type": "text"
      },
      "source": [
        "ANSWER:"
      ]
    },
    {
      "cell_type": "markdown",
      "metadata": {
        "id": "VPRMFt9lLkUS",
        "colab_type": "text"
      },
      "source": [
        "(10) Because Naive Bayes is a generative model, we can use the trained model to generate digits. Train a BernoulliNB model and then generate a 10x20 grid with 20 examples of each digit. Because you're using a Bernoulli model, each pixel output will be either 0 or 1. How do the generated digits compare to the training digits?\n",
        "\n",
        "- You can use np.random.rand() to generate random numbers from a uniform distribution\n",
        "- The estimated probability of each pixel is stored in feature\\_log\\_prob\\_. You'll need to use np.exp() to convert a log probability back to a probability."
      ]
    },
    {
      "cell_type": "code",
      "metadata": {
        "id": "ToJgTdxsLkUS",
        "colab_type": "code",
        "colab": {}
      },
      "source": [
        "#def P10(num_examples):\n",
        "\n",
        "### STUDENT START ###\n",
        "\n",
        "\n",
        "### STUDENT END ###\n",
        "\n",
        "#P10(20)"
      ],
      "execution_count": 0,
      "outputs": []
    },
    {
      "cell_type": "markdown",
      "metadata": {
        "id": "ipiQxRdCLkUV",
        "colab_type": "text"
      },
      "source": [
        "ANSWER:"
      ]
    },
    {
      "cell_type": "markdown",
      "metadata": {
        "id": "ZU2voLvILkUX",
        "colab_type": "text"
      },
      "source": [
        "(11) Remember that a strongly calibrated classifier is rougly 90% accurate when the posterior probability of the predicted class is 0.9. A weakly calibrated classifier is more accurate when the posterior is 90% than when it is 80%. A poorly calibrated classifier has no positive correlation between posterior and accuracy.\n",
        "\n",
        "Train a BernoulliNB model with a reasonable alpha value. For each posterior bucket (think of a bin in a histogram), you want to estimate the classifier's accuracy. So for each prediction, find the bucket the maximum posterior belongs to and update the \"correct\" and \"total\" counters.\n",
        "\n",
        "How would you characterize the calibration for the Naive Bayes model?"
      ]
    },
    {
      "cell_type": "code",
      "metadata": {
        "id": "0dsdaxrYLkUX",
        "colab_type": "code",
        "colab": {}
      },
      "source": [
        "#def P11(buckets, correct, total):\n",
        "    \n",
        "### STUDENT START ###\n",
        "\n",
        "\n",
        "                \n",
        "### STUDENT END ###\n",
        "\n",
        "#buckets = [0.5, 0.9, 0.999, 0.99999, 0.9999999, 0.999999999, 0.99999999999, 0.9999999999999, 1.0]\n",
        "#correct = [0 for i in buckets]\n",
        "#total = [0 for i in buckets]\n",
        "\n",
        "#P11(buckets, correct, total)\n",
        "\n",
        "#for i in range(len(buckets)):\n",
        "#    accuracy = 0.0\n",
        "#    if (total[i] > 0): accuracy = correct[i] / total[i]\n",
        "#    print 'p(pred) <= %.13f    total = %3d    accuracy = %.3f' %(buckets[i], total[i], accuracy)"
      ],
      "execution_count": 0,
      "outputs": []
    },
    {
      "cell_type": "markdown",
      "metadata": {
        "id": "x44WGcXfLkUa",
        "colab_type": "text"
      },
      "source": [
        "ANSWER:"
      ]
    },
    {
      "cell_type": "markdown",
      "metadata": {
        "id": "NPCGFg_yLkUa",
        "colab_type": "text"
      },
      "source": [
        "(12) EXTRA CREDIT\n",
        "\n",
        "Try designing extra features to see if you can improve the performance of Naive Bayes on the dev set. Here are a few ideas to get you started:\n",
        "- Try summing the pixel values in each row and each column.\n",
        "- Try counting the number of enclosed regions; 8 usually has 2 enclosed regions, 9 usually has 1, and 7 usually has 0.\n",
        "\n",
        "Make sure you comment your code well!"
      ]
    },
    {
      "cell_type": "code",
      "metadata": {
        "id": "xjEcU7SULkUb",
        "colab_type": "code",
        "colab": {}
      },
      "source": [
        "#def P12():\n",
        "\n",
        "### STUDENT START ###\n",
        "\n",
        "\n",
        "### STUDENT END ###\n",
        "\n",
        "#P12()"
      ],
      "execution_count": 0,
      "outputs": []
    }
  ]
}