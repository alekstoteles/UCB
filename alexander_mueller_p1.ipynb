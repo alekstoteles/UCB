{
  "nbformat": 4,
  "nbformat_minor": 0,
  "metadata": {
    "colab": {
      "name": "alexander_mueller_p1.ipynb",
      "version": "0.3.2",
      "provenance": [],
      "collapsed_sections": [],
      "include_colab_link": true
    },
    "language_info": {
      "codemirror_mode": {
        "name": "ipython",
        "version": 2
      },
      "file_extension": ".py",
      "mimetype": "text/x-python",
      "name": "python",
      "nbconvert_exporter": "python",
      "pygments_lexer": "ipython2",
      "version": "2.7.15"
    },
    "kernelspec": {
      "name": "python2",
      "display_name": "Python 2"
    },
    "accelerator": "GPU"
  },
  "cells": [
    {
      "cell_type": "markdown",
      "metadata": {
        "id": "view-in-github",
        "colab_type": "text"
      },
      "source": [
        "<a href=\"https://colab.research.google.com/github/alekstoteles/UCB/blob/master/alexander_mueller_p1.ipynb\" target=\"_parent\"><img src=\"https://colab.research.google.com/assets/colab-badge.svg\" alt=\"Open In Colab\"/></a>"
      ]
    },
    {
      "cell_type": "markdown",
      "metadata": {
        "id": "CjUJGz_wLkTk",
        "colab_type": "text"
      },
      "source": [
        "# Project 1: Digit Classification with KNN and Naive Bayes"
      ]
    },
    {
      "cell_type": "markdown",
      "metadata": {
        "id": "o9noHi1SLkTm",
        "colab_type": "text"
      },
      "source": [
        "In this project, you'll implement your own image recognition system for classifying digits. Read through the code and the instructions carefully and add your own code where indicated. Each problem can be addressed succinctly with the included packages -- please don't add any more. Grading will be based on writing clean, commented code, along with a few short answers.\n",
        "\n",
        "As always, you're welcome to work on the project in groups and discuss ideas on the course wall, but <b> please prepare your own write-up (with your own code). </b>\n",
        "\n",
        "If you're interested, check out these links related to digit recognition:\n",
        "\n",
        "Yann Lecun's MNIST benchmarks: http://yann.lecun.com/exdb/mnist/\n",
        "\n",
        "Stanford Streetview research and data: http://ufldl.stanford.edu/housenumbers/"
      ]
    },
    {
      "cell_type": "code",
      "metadata": {
        "id": "CG1rsda4LkTn",
        "colab_type": "code",
        "colab": {}
      },
      "source": [
        "# This tells matplotlib not to try opening a new window for each plot.\n",
        "%matplotlib inline\n",
        "\n",
        "# Import a bunch of libraries.\n",
        "import time\n",
        "import numpy as np\n",
        "import matplotlib.pyplot as plt\n",
        "from matplotlib.ticker import MultipleLocator\n",
        "from sklearn.pipeline import Pipeline\n",
        "from sklearn.datasets import fetch_openml\n",
        "from sklearn.neighbors import KNeighborsClassifier\n",
        "from sklearn.metrics import confusion_matrix\n",
        "from sklearn.linear_model import LinearRegression\n",
        "from sklearn.naive_bayes import BernoulliNB\n",
        "from sklearn.naive_bayes import MultinomialNB\n",
        "from sklearn.naive_bayes import GaussianNB\n",
        "from sklearn.model_selection import GridSearchCV\n",
        "from sklearn.metrics import classification_report\n",
        "\n",
        "# Set the randomizer seed so results are the same each time.\n",
        "np.random.seed(0)"
      ],
      "execution_count": 0,
      "outputs": []
    },
    {
      "cell_type": "markdown",
      "metadata": {
        "id": "X9M9bvyjLkTq",
        "colab_type": "text"
      },
      "source": [
        "Load the data. Notice that we are splitting the data into training, development, and test. We also have a small subset of the training data called mini_train_data and mini_train_labels that you should use in all the experiments below, unless otherwise noted."
      ]
    },
    {
      "cell_type": "code",
      "metadata": {
        "id": "Zf1UoZcOLkTr",
        "colab_type": "code",
        "outputId": "8ad908bd-acb3-4715-b0ea-9f78143eeec5",
        "colab": {
          "base_uri": "https://localhost:8080/",
          "height": 51
        }
      },
      "source": [
        "# Load the digit data from https://www.openml.org/d/554 or from default local location '~/scikit_learn_data/...'\n",
        "X, Y = fetch_openml(name='mnist_784', return_X_y=True, cache=False)\n",
        "\n",
        "\n",
        "# Rescale grayscale values to [0,1].\n",
        "X = X / 255.0\n",
        "\n",
        "# Shuffle the input: create a random permutation of the integers between 0 and the number of data points and apply this\n",
        "# permutation to X and Y.\n",
        "# NOTE: Each time you run this cell, you'll re-shuffle the data, resulting in a different ordering.\n",
        "shuffle = np.random.permutation(np.arange(X.shape[0]))\n",
        "X, Y = X[shuffle], Y[shuffle]\n",
        "\n",
        "print 'data shape: ', X.shape\n",
        "print 'label shape:', Y.shape\n",
        "\n",
        "# Set some variables to hold test, dev, and training data.\n",
        "test_data, test_labels = X[61000:], Y[61000:]\n",
        "dev_data, dev_labels = X[60000:61000], Y[60000:61000]\n",
        "train_data, train_labels = X[:60000], Y[:60000]\n",
        "mini_train_data, mini_train_labels = X[:1000], Y[:1000]"
      ],
      "execution_count": 61,
      "outputs": [
        {
          "output_type": "stream",
          "text": [
            "data shape:  (70000, 784)\n",
            "label shape: (70000,)\n"
          ],
          "name": "stdout"
        }
      ]
    },
    {
      "cell_type": "markdown",
      "metadata": {
        "id": "LBMg6pp2LkTw",
        "colab_type": "text"
      },
      "source": [
        "(1) Create a 10x10 grid to visualize 10 examples of each digit. Python hints:\n",
        "\n",
        "- plt.rc() for setting the colormap, for example to black and white\n",
        "- plt.subplot() for creating subplots\n",
        "- plt.imshow() for rendering a matrix\n",
        "- np.array.reshape() for reshaping a 1D feature vector into a 2D matrix (for rendering)"
      ]
    },
    {
      "cell_type": "code",
      "metadata": {
        "id": "RGIM1tULd1CC",
        "colab_type": "code",
        "outputId": "2f4b74a3-6c69-48af-deeb-130b4afcf5d2",
        "colab": {
          "base_uri": "https://localhost:8080/",
          "height": 607
        }
      },
      "source": [
        "def P1(num_examples=10):\n",
        "\n",
        "### STUDENT START ###\n",
        "\n",
        "  # Create an empty array to store image data, sorted by digit\n",
        "  digit_entries = np.empty((0, 784))\n",
        "  # Iterate through digits 0-9\n",
        "  for number in range(0,num_examples):\n",
        "    # Boolean filter to locate digits (from the labels)\n",
        "    filter_array = (mini_train_labels == str(number))\n",
        "    # Apply boolean filter to training data, and append the first 10 entries\n",
        "    filtered_array = mini_train_data[filter_array][:num_examples]\n",
        "    digit_entries = np.append(digit_entries, filtered_array, axis=0)\n",
        "  # Reshape vector into 2D matrix for rendering\n",
        "  images = [item.reshape(28,28) for item in digit_entries]\n",
        "  row_images = [] \n",
        "  # Data selection and transformation for visualization\n",
        "  for row in range(num_examples):\n",
        "    rimages = images[row * num_examples : (row + 1) * num_examples]\n",
        "    row_images.append(np.concatenate(rimages, axis = 1))    \n",
        "  image = np.concatenate(row_images, axis = 0) \n",
        "  plt.imshow(image, cmap = plt.cm.binary, interpolation = 'nearest')\n",
        "  plt.title(\"Example images from MNIST dataset\")\n",
        "  plt.axis('off')\n",
        "  return\n",
        "plt.figure(figsize=(10,10))\n",
        "\n",
        "### STUDENT END ###\n",
        "\n",
        "P1(10)"
      ],
      "execution_count": 62,
      "outputs": [
        {
          "output_type": "display_data",
          "data": {
            "image/png": "[encoded data removed]",
            "text/plain": [
              "<Figure size 720x720 with 1 Axes>"
            ]
          },
          "metadata": {
            "tags": []
          }
        }
      ]
    },
    {
      "cell_type": "markdown",
      "metadata": {
        "id": "AhcEgB5BLkTz",
        "colab_type": "text"
      },
      "source": [
        "(2) Evaluate a K-Nearest-Neighbors model with k = [1,3,5,7,9] using the mini training set. Report accuracy on the dev set. For k=1, show precision, recall, and F1 for each label. Which is the most difficult digit?\n",
        "\n",
        "- KNeighborsClassifier() for fitting and predicting\n",
        "- classification_report() for producing precision, recall, F1 results"
      ]
    },
    {
      "cell_type": "code",
      "metadata": {
        "id": "EVEn_N1uLkT0",
        "colab_type": "code",
        "outputId": "94a93f65-92d1-45e0-e8ba-75503febd198",
        "colab": {
          "base_uri": "https://localhost:8080/",
          "height": 459
        }
      },
      "source": [
        "def P2(k_values):\n",
        "\n",
        "### STUDENT START ###\n",
        "  # Accuracy score calculation\n",
        "  print(\"Accuracy scores for classifier KNN\")\n",
        "  for k in k_values:\n",
        "    neigh = KNeighborsClassifier(n_neighbors=k)\n",
        "    neigh.fit(mini_train_data, mini_train_labels)\n",
        "    print(\"Accuracy score for k={}: {}\".format(k, neigh.score(dev_data, dev_labels)))\n",
        "  # Classification report\n",
        "  print(\"\\n\\nClassification report for classifier KNN (k=1)\")\n",
        "  neigh = KNeighborsClassifier(n_neighbors=1)\n",
        "  neigh.fit(mini_train_data, mini_train_labels)\n",
        "  dev_pred = neigh.predict(dev_data)\n",
        "  labels = [i for i in range(0,10)]\n",
        "  print(classification_report(dev_labels, dev_pred, labels=labels))\n",
        "  # Optional code: Confusion matrix\n",
        "  # print(\"\\n\\nConfusion matrix for classifier KNN (k=1)\")\n",
        "  # print(confusion_matrix(dev_labels, dev_pred))  \n",
        "    \n",
        "### STUDENT END ###\n",
        "\n",
        "k_values = [1, 3, 5, 7, 9]\n",
        "P2(k_values)"
      ],
      "execution_count": 63,
      "outputs": [
        {
          "output_type": "stream",
          "text": [
            "Accuracy scores for classifier KNN\n",
            "Accuracy score for k=1: 0.884\n",
            "Accuracy score for k=3: 0.876\n",
            "Accuracy score for k=5: 0.882\n",
            "Accuracy score for k=7: 0.877\n",
            "Accuracy score for k=9: 0.875\n",
            "\n",
            "\n",
            "Classification report for classifier KNN (k=1)\n",
            "              precision    recall  f1-score   support\n",
            "\n",
            "           0       0.95      0.95      0.95       106\n",
            "           1       0.89      0.98      0.93       118\n",
            "           2       0.90      0.79      0.84       106\n",
            "           3       0.93      0.87      0.90        97\n",
            "           4       0.91      0.85      0.88        92\n",
            "           5       0.86      0.88      0.87        88\n",
            "           6       0.92      0.92      0.92       102\n",
            "           7       0.85      0.94      0.89       102\n",
            "           8       0.83      0.77      0.80        94\n",
            "           9       0.80      0.86      0.83        95\n",
            "\n",
            "   micro avg       0.88      0.88      0.88      1000\n",
            "   macro avg       0.88      0.88      0.88      1000\n",
            "weighted avg       0.89      0.88      0.88      1000\n",
            "\n"
          ],
          "name": "stdout"
        }
      ]
    },
    {
      "cell_type": "markdown",
      "metadata": {
        "id": "VFAIEZi9LkT2",
        "colab_type": "text"
      },
      "source": [
        "ANSWER: The answer depends on our priorities - we can either prioritize precision or recall, or strike a balance by using the F1-score (the harmonic mean of precision and recall). Since we do not know anything about our use-case, we focus on the F1 score, which favors classifiers with similar precision and recall. From this, we can see that the digit '8' is the most difficult (F1 score of 0.8). Looking at the confusion matrix (optional code included) we find that '8' is often misclassified as '1', '2' or '9'."
      ]
    },
    {
      "cell_type": "markdown",
      "metadata": {
        "id": "hFukiUp5LkT3",
        "colab_type": "text"
      },
      "source": [
        "(3) Using k=1, report dev set accuracy for the training set sizes below. Also, measure the amount of time needed for prediction with each training size.\n",
        "\n",
        "- time.time() gives a wall clock value you can use for timing operations"
      ]
    },
    {
      "cell_type": "code",
      "metadata": {
        "id": "KtaIb60LLkT4",
        "colab_type": "code",
        "outputId": "adfe3c11-5999-47be-b64e-d0993c595b84",
        "colab": {
          "base_uri": "https://localhost:8080/",
          "height": 493
        }
      },
      "source": [
        "def P3(train_sizes, accuracies):\n",
        "\n",
        "### STUDENT START ###\n",
        "\n",
        "    for size in train_sizes:\n",
        "        # Define training set for different train_sizes\n",
        "        train_data_var, train_labels_var = X[:size], Y[:size]\n",
        "        start = time.time()\n",
        "        # Fit classifier KNN with k=1\n",
        "        neigh = KNeighborsClassifier(n_neighbors=1)\n",
        "        neigh.fit(train_data_var, train_labels_var)\n",
        "        end = time.time()\n",
        "        elapsed = end - start\n",
        "        # Calculate accuracy score\n",
        "        score = neigh.score(dev_data, dev_labels)\n",
        "        accuracies.append(score)\n",
        "        print(\"Accuracy score for training set size {}: {}\".format(size, score))\n",
        "        print(\"Elapsed time: {0:4f} seconds\\n\".format(elapsed))\n",
        "    return accuracies\n",
        "\n",
        "\n",
        "### STUDENT END ###\n",
        "\n",
        "train_sizes = [100, 200, 400, 800, 1600, 3200, 6400, 12800, 25000]\n",
        "accuracies = []\n",
        "P3(train_sizes, accuracies)"
      ],
      "execution_count": 64,
      "outputs": [
        {
          "output_type": "stream",
          "text": [
            "Accuracy score for training set size 100: 0.702\n",
            "Elapsed time: 0.001565 seconds\n",
            "\n",
            "Accuracy score for training set size 200: 0.791\n",
            "Elapsed time: 0.002678 seconds\n",
            "\n",
            "Accuracy score for training set size 400: 0.811\n",
            "Elapsed time: 0.005532 seconds\n",
            "\n",
            "Accuracy score for training set size 800: 0.866\n",
            "Elapsed time: 0.010727 seconds\n",
            "\n",
            "Accuracy score for training set size 1600: 0.905\n",
            "Elapsed time: 0.030429 seconds\n",
            "\n",
            "Accuracy score for training set size 3200: 0.927\n",
            "Elapsed time: 0.111067 seconds\n",
            "\n",
            "Accuracy score for training set size 6400: 0.939\n",
            "Elapsed time: 0.392942 seconds\n",
            "\n",
            "Accuracy score for training set size 12800: 0.952\n",
            "Elapsed time: 1.438144 seconds\n",
            "\n",
            "Accuracy score for training set size 25000: 0.962\n",
            "Elapsed time: 5.087676 seconds\n",
            "\n"
          ],
          "name": "stdout"
        },
        {
          "output_type": "execute_result",
          "data": {
            "text/plain": [
              "[0.702, 0.791, 0.811, 0.866, 0.905, 0.927, 0.939, 0.952, 0.962]"
            ]
          },
          "metadata": {
            "tags": []
          },
          "execution_count": 64
        }
      ]
    },
    {
      "cell_type": "markdown",
      "metadata": {
        "id": "oSOuTEQYLkT6",
        "colab_type": "text"
      },
      "source": [
        "(4) Fit a regression model that predicts accuracy from training size. What does it predict for n=60000? What's wrong with using regression here? Can you apply a transformation that makes the predictions more reasonable?\n",
        "\n",
        "- Remember that the sklearn fit() functions take an input matrix X and output vector Y. So each input example in X is a vector, even if it contains only a single value."
      ]
    },
    {
      "cell_type": "code",
      "metadata": {
        "id": "a9ASg8RBLkT7",
        "colab_type": "code",
        "outputId": "aeac9bdc-8955-4ce9-8b2d-ee6ee372f5a7",
        "colab": {
          "base_uri": "https://localhost:8080/",
          "height": 68
        }
      },
      "source": [
        "def P4(pred_size):\n",
        "\n",
        "### STUDENT START ###\n",
        "    # Reshape features and labels as np arrays, to match required input of sklearn linear model\n",
        "    x = np.asarray(train_sizes).reshape(-1,1)\n",
        "    y = np.asarray(accuracies).reshape(-1,1)\n",
        "    # Fit linear model to data\n",
        "    reg = LinearRegression()\n",
        "    reg.fit(x, y)\n",
        "    print(\"Slope coefficient of estimator: {}\".format(reg.coef_))\n",
        "    print(\"R2 score: {}\".format(reg.score(x, y)))\n",
        "    # Predict regressand\n",
        "    prediction = reg.predict(np.array([[pred_size]]))\n",
        "    print(\"Prediction for n={}: {}\".format(pred_size, prediction))\n",
        "    \n",
        "\n",
        "### STUDENT END ###\n",
        "\n",
        "P4(60000)"
      ],
      "execution_count": 65,
      "outputs": [
        {
          "output_type": "stream",
          "text": [
            "Slope coefficient of estimator: [[6.83806142e-06]]\n",
            "R2 score: 0.420268152171\n",
            "Prediction for n=60000: [[1.24469234]]\n"
          ],
          "name": "stdout"
        }
      ]
    },
    {
      "cell_type": "code",
      "metadata": {
        "id": "Ta6L4kEVJiyJ",
        "colab_type": "code",
        "outputId": "35888dde-2442-4c08-ea25-5e8e97965492",
        "colab": {
          "base_uri": "https://localhost:8080/",
          "height": 581
        }
      },
      "source": [
        "# Apply log(train_sizes) and log(pred_size), to control for exponential increase\n",
        "def P4(pred_size):\n",
        "    x = np.asarray(np.log(train_sizes)).reshape(-1,1)\n",
        "    y = np.asarray(accuracies).reshape(-1,1)\n",
        "    # Fit linear model to data\n",
        "    reg = LinearRegression()\n",
        "    reg.fit(x, y)\n",
        "    print(\"Slope coefficient of estimator: {}\".format(reg.coef_))\n",
        "    print(\"R2 score: {}\".format(reg.score(x, y)))\n",
        "    # Predict regressand\n",
        "    prediction = reg.predict(np.array([[np.log(pred_size)]]))\n",
        "    print(\"Prediction for n={}: {}\".format(pred_size, prediction))\n",
        "    # Cap accuracy value at max 1\n",
        "    if prediction > 1:\n",
        "      prediction = 1\n",
        "    print(\"Prediction for n={} (capped): {}\".format(pred_size, prediction))\n",
        "    \n",
        "    x = np.append(x, np.log(pred_size))\n",
        "    y = np.append(y, prediction)\n",
        "            \n",
        "    fig, ax = plt.subplots(figsize=(8, 8))\n",
        "    plt.title(\"Accuracy over training set size\")\n",
        "    plt.xlabel(\"Training set size (log)\")\n",
        "    plt.ylabel(\"Accuracy of classifier\")\n",
        "    plt.scatter(x, y, color='black')\n",
        "    plt.show()\n",
        "    \n",
        "                   \n",
        "P4(60000)"
      ],
      "execution_count": 66,
      "outputs": [
        {
          "output_type": "stream",
          "text": [
            "Slope coefficient of estimator: [[0.0443709]]\n",
            "R2 score: 0.90661705259\n",
            "Prediction for n=60000: [[1.03370997]]\n",
            "Prediction for n=60000 (capped): 1\n"
          ],
          "name": "stdout"
        },
        {
          "output_type": "display_data",
          "data": {
            "image/png": "[encoded data removed]",
            "text/plain": [
              "<Figure size 576x576 with 1 Axes>"
            ]
          },
          "metadata": {
            "tags": []
          }
        }
      ]
    },
    {
      "cell_type": "markdown",
      "metadata": {
        "id": "6n2wYXxkLkT9",
        "colab_type": "text"
      },
      "source": [
        "ANSWER: The regression output returns values greater than 1, which is not feasible given that accuracy can not exceed 1. To control for the exponential relationship with regard to the training set size, we apply a log transformation to the training set size, which also significantly improves the model fit (R2). Still, for training set sizes around 60k, the predictor outputs values slightly above 1. Since we do not know at which threshold the predictor converges to accuracy 1, I have decided to cap the accuracy at 1."
      ]
    },
    {
      "cell_type": "markdown",
      "metadata": {
        "id": "yGk9dilqLkT_",
        "colab_type": "text"
      },
      "source": [
        "(5) Fit a 1-NN and output a confusion matrix for the dev data. Use the confusion matrix to identify the most confused pair of digits, and display a few example mistakes.\n",
        "\n",
        "- confusion_matrix() produces a confusion matrix"
      ]
    },
    {
      "cell_type": "code",
      "metadata": {
        "id": "lZBenYQDLkUA",
        "colab_type": "code",
        "outputId": "756c6445-7e37-4508-d687-cb3070c3ddce",
        "colab": {
          "base_uri": "https://localhost:8080/",
          "height": 238
        }
      },
      "source": [
        "def P5():\n",
        "\n",
        "### STUDENT START ###\n",
        "\n",
        "  neigh = KNeighborsClassifier(n_neighbors=1)\n",
        "  neigh.fit(mini_train_data, mini_train_labels)\n",
        "  dev_pred = neigh.predict(dev_data)\n",
        "  print(\"\\n\\nConfusion matrix for classifier KNN (k=1)\")\n",
        "  print(confusion_matrix(dev_labels, dev_pred))  \n",
        "\n",
        "    \n",
        "### STUDENT END ###\n",
        "\n",
        "P5()"
      ],
      "execution_count": 67,
      "outputs": [
        {
          "output_type": "stream",
          "text": [
            "\n",
            "\n",
            "Confusion matrix for classifier KNN (k=1)\n",
            "[[101   0   1   0   0   0   1   1   2   0]\n",
            " [  0 116   1   0   0   0   0   0   1   0]\n",
            " [  1   4  84   2   2   0   2   4   6   1]\n",
            " [  0   2   0  84   0   6   0   2   3   0]\n",
            " [  0   0   1   0  78   0   0   2   0  11]\n",
            " [  2   0   0   1   1  77   5   0   2   0]\n",
            " [  1   2   1   0   1   2  94   0   1   0]\n",
            " [  0   1   1   0   0   0   0  96   0   4]\n",
            " [  1   5   4   3   1   3   0   1  72   4]\n",
            " [  0   1   0   0   3   2   0   7   0  82]]\n"
          ],
          "name": "stdout"
        }
      ]
    },
    {
      "cell_type": "markdown",
      "metadata": {
        "id": "ldS9tu6X0pri",
        "colab_type": "text"
      },
      "source": [
        "From the confusion matrix we can see that:\n",
        "*   '4' is often misclassified as '9'\n",
        "*   '9' is often misclassified as '7'\n",
        "*   '2' is often misclassified as '8'\n",
        "*   '3' is often misclassified as '5'\n",
        "\n",
        "\n"
      ]
    },
    {
      "cell_type": "code",
      "metadata": {
        "id": "Y7plO6Al0hu1",
        "colab_type": "code",
        "outputId": "a46f9abb-9004-4959-a170-90f9ba910797",
        "colab": {
          "base_uri": "https://localhost:8080/",
          "height": 115
        }
      },
      "source": [
        "neigh = KNeighborsClassifier(n_neighbors=1)\n",
        "neigh.fit(mini_train_data, mini_train_labels)\n",
        "dev_pred = neigh.predict(dev_data)\n",
        "\n",
        "cl_a = \"4\"\n",
        "cl_b = \"9\"\n",
        "X_aa = dev_data[(dev_labels == cl_a) & (dev_pred == cl_b)]\n",
        "\n",
        "\n",
        "images = [item.reshape(28,28) for item in X_aa]\n",
        "row_images = [] \n",
        "# Data selection and transformation for visualization\n",
        "for row in range(1):\n",
        "  rimages = images[0 : 11]\n",
        "  row_images.append(np.concatenate(rimages, axis = 1))    \n",
        "image = np.concatenate(row_images, axis = 0) \n",
        "plt.figure(figsize=(10,8))\n",
        "plt.title(\"Example mistakes: '4' classified as '9'\")\n",
        "plt.imshow(image, cmap = plt.cm.binary, interpolation = 'nearest')\n",
        "plt.axis('off')\n",
        "pass\n",
        "\n",
        "\n"
      ],
      "execution_count": 210,
      "outputs": [
        {
          "output_type": "display_data",
          "data": {
            "image/png": "[encoded data removed]",
            "text/plain": [
              "<Figure size 720x576 with 1 Axes>"
            ]
          },
          "metadata": {
            "tags": []
          }
        }
      ]
    },
    {
      "cell_type": "markdown",
      "metadata": {
        "id": "4nixfswpLkUC",
        "colab_type": "text"
      },
      "source": [
        "(6) A common image processing technique is to smooth an image by blurring. The idea is that the value of a particular pixel is estimated as the weighted combination of the original value and the values around it. Typically, the blurring is Gaussian -- that is, the weight of a pixel's influence is determined by a Gaussian function over the distance to the relevant pixel.\n",
        "\n",
        "Implement a simplified Gaussian blur by just using the 8 neighboring pixels: the smoothed value of a pixel is a weighted combination of the original value and the 8 neighboring values. Try applying your blur filter in 3 ways:\n",
        "- preprocess the training data but not the dev data\n",
        "- preprocess the dev data but not the training data\n",
        "- preprocess both training and dev data\n",
        "\n",
        "Note that there are Guassian blur filters available, for example in scipy.ndimage.filters. You're welcome to experiment with those, but you are likely to get the best results with the simplified version I described above."
      ]
    },
    {
      "cell_type": "code",
      "metadata": {
        "id": "dQQXcH8YLkUD",
        "colab_type": "code",
        "outputId": "731b2ec4-045a-4fa2-a82d-e509acc21051",
        "colab": {
          "base_uri": "https://localhost:8080/",
          "height": 248
        }
      },
      "source": [
        "# def P6():\n",
        "    \n",
        "### STUDENT START ###\n",
        "\n",
        "def blur(image):\n",
        "  # Define box blur image processing kernel (1/9 * [3,3] matrix)\n",
        "  kernel = np.ones((3,3), dtype=\"float32\") / 9\n",
        "  # Add additional border to allow kernel processing\n",
        "  border = 1\n",
        "  (rows , columns) = image.shape\n",
        "  (rows, columns) = (rows + 2*border, columns + 2*border)\n",
        "  # Create extended array to fit original image incl. border\n",
        "  image_raw = np.zeros((rows, columns), dtype=\"float32\")\n",
        "  image_raw[border: border+image.shape[0], border: border+image.shape[1]] = image\n",
        "  # Create empty array to fit blurred image  \n",
        "  blurred_image = np.zeros((image.shape), dtype=\"float32\")\n",
        "  # Apply filter across all rows and columns of image_raw\n",
        "  for row in np.arange(border, rows-1):\n",
        "    for column in np.arange(border, columns-1):\n",
        "      mask_area = image_raw[row - border : row + 2 * border, column - border : column + 2 * border]\n",
        "      # The magic happens: kernel is applied to mask_area, resulting in a convolution operation\n",
        "      convolution = (mask_area * kernel).sum()\n",
        "      # Convoluted mask_area is copied into image\n",
        "      blurred_image[row - border, column - border] = convolution        \n",
        "  return blurred_image\n",
        "\n",
        "# Create a copy of the mini train data\n",
        "mini_train_copy = np.copy(mini_train_data)\n",
        "# Select examples for display\n",
        "mini_train_example = mini_train_copy[100].reshape(28,28)\n",
        "blurred_mini_train_example = blur(mini_train_copy[100].reshape(28,28))\n",
        "\n",
        "# Plot examples\n",
        "image_comparison = np.concatenate((mini_train_example, blurred_mini_train_example), axis = 1)\n",
        "plt.imshow(image_comparison, cmap = plt.cm.binary, interpolation = 'nearest')\n",
        "plt.title(\"Example image from MNIST dataset (non-blurred and blurred)\")\n",
        "plt.axis('off')\n",
        "\n",
        "### STUDENT END ###\n",
        "\n",
        "# P6()"
      ],
      "execution_count": 110,
      "outputs": [
        {
          "output_type": "execute_result",
          "data": {
            "text/plain": [
              "(-0.5, 55.5, 27.5, -0.5)"
            ]
          },
          "metadata": {
            "tags": []
          },
          "execution_count": 110
        },
        {
          "output_type": "display_data",
          "data": {
            "image/png": "[encoded data removed]",
            "text/plain": [
              "<Figure size 432x288 with 1 Axes>"
            ]
          },
          "metadata": {
            "tags": []
          }
        }
      ]
    },
    {
      "cell_type": "code",
      "metadata": {
        "id": "0tMgoMNgWT8z",
        "colab_type": "code",
        "colab": {
          "base_uri": "https://localhost:8080/",
          "height": 85
        },
        "outputId": "c8e5c98f-ba98-4a16-a5c6-4be1a112869b"
      },
      "source": [
        "# Apply blur function to all mini data set entries\n",
        "blurred_mini_train = [blur(image.reshape(28,28)).flatten() for image in mini_train_copy]\n",
        "# Apply blur functio to all dev data\n",
        "blurred_dev_data = [blur(image.reshape(28,28)).flatten() for image in dev_data]\n",
        "\n",
        "# Calculate accuracies for KNN with non-blurred and blurred data\n",
        "# Fit classifier KNN with k=1\n",
        "def fit(train_data, train_labels, test_data, test_labels):\n",
        "  neigh = KNeighborsClassifier(n_neighbors=1)\n",
        "  neigh.fit(train_data, train_labels)\n",
        "  # Calculate accuracy score\n",
        "  score = neigh.score(test_data, test_labels)\n",
        "  return score\n",
        "\n",
        "print(\"Accuracy (non-blurred mini train, non-blurred dev data): {}\".format( \n",
        "      fit(mini_train_data, mini_train_labels, dev_data, dev_labels)))\n",
        "\n",
        "print(\"Accuracy (blurred mini train, non-blurred dev data): {}\".format( \n",
        "      fit(blurred_mini_train, mini_train_labels, dev_data, dev_labels)))\n",
        "\n",
        "print(\"Accuracy (non-blurred mini train, blurred dev data): {}\".format(\n",
        "      fit(mini_train_data, mini_train_labels, blurred_dev_data, dev_labels)))\n",
        "\n",
        "print(\"Accuracy (blurred mini train, blurred dev data): {}\".format( \n",
        "      fit(blurred_mini_train, mini_train_labels, blurred_dev_data, dev_labels)))"
      ],
      "execution_count": 112,
      "outputs": [
        {
          "output_type": "stream",
          "text": [
            "Accuracy (non-blurred mini train, non-blurred dev data): 0.884\n",
            "Accuracy (blurred mini train, non-blurred dev data): 0.907\n",
            "Accuracy (non-blurred mini train, blurred dev data): 0.868\n",
            "Accuracy (blurred mini train, blurred dev data): 0.905\n"
          ],
          "name": "stdout"
        }
      ]
    },
    {
      "cell_type": "markdown",
      "metadata": {
        "id": "5d8F0JgvLkUF",
        "colab_type": "text"
      },
      "source": [
        "ANSWER: The accuracy of the classifier using the blurred training and non-blurred test data set is the highest (0.907). In general, training the classifier on blurred images is advantageous, indicating that the smoothing might reduce noise which improves the result on new examples."
      ]
    },
    {
      "cell_type": "markdown",
      "metadata": {
        "id": "W1z-ZaYoLkUF",
        "colab_type": "text"
      },
      "source": [
        "(7) Fit a Naive Bayes classifier and report accuracy on the dev data. Remember that Naive Bayes estimates P(feature|label). While sklearn can handle real-valued features, let's start by mapping the pixel values to either 0 or 1. You can do this as a preprocessing step, or with the binarize argument. With binary-valued features, you can use BernoulliNB. Next try mapping the pixel values to 0, 1, or 2, representing white, grey, or black. This mapping requires MultinomialNB. Does the multi-class version improve the results? Why or why not?"
      ]
    },
    {
      "cell_type": "code",
      "metadata": {
        "id": "gFr5Q97TLkUG",
        "colab_type": "code",
        "colab": {}
      },
      "source": [
        "def P7():\n",
        "\n",
        "### STUDENT START ###\n",
        "  # Fitting a Naive Bayes classifier\n",
        "  gnb = GaussianNB()\n",
        "  gnb.fit(mini_train_data, mini_train_labels)\n",
        "  # Reporting accuracy on the dev data\n",
        "  print(\"Accuracy score of Gaussian Naive Bayes on dev data: {}\".format(gnb.score(dev_data, dev_labels)))\n",
        "\n",
        "    \n",
        "### STUDENT END ###\n",
        "\n",
        "P7()"
      ],
      "execution_count": 0,
      "outputs": []
    },
    {
      "cell_type": "code",
      "metadata": {
        "id": "J-bJuhJHAj0K",
        "colab_type": "code",
        "colab": {}
      },
      "source": [
        "def PBernoulli():\n",
        "\n",
        "### STUDENT START ###\n",
        "  # Fitting Bernoulli Naive Bayes classifier, setting threshold for binarization to 0.5\n",
        "  bnb = BernoulliNB(binarize=0.5)\n",
        "  bnb.fit(mini_train_data, mini_train_labels)\n",
        "  # Reporting accuracy on the dev data\n",
        "  print(\"Accuracy score of Bernoulli Naive Bayes on dev data (binarization threshold = 0.5): {}\"\\\n",
        "        .format(bnb.score(dev_data, dev_labels)))\n",
        "\n",
        "    \n",
        "### STUDENT END ###\n",
        "\n",
        "PBernoulli()"
      ],
      "execution_count": 0,
      "outputs": []
    },
    {
      "cell_type": "code",
      "metadata": {
        "id": "DKMKpgEXDUCe",
        "colab_type": "code",
        "colab": {}
      },
      "source": [
        "### STUDENT START ###\n",
        "\n",
        "def PMultinomialNB():\n",
        "  # Fitting a Multinomial Naive Bayes Classifier\n",
        "  mnb = MultinomialNB()\n",
        "  mnb.fit(mini_train_data_2, mini_train_labels)\n",
        "  # Reporting accuracy on the binarized dev data\n",
        "  print(\"Accuracy score of Multinomial Naive Bayes on dev data (binarization thresholds = 0.0, 1.0, 2.0): {}\"\\\n",
        "        .format(mnb.score(dev_data_2, dev_labels)))\n",
        "    \n",
        "# Binarization preprocessing\n",
        "mini_train_data_2 = np.copy(mini_train_data)\n",
        "dev_data_2 = np.copy(dev_data)\n",
        "\n",
        "def binarize(data):\n",
        "  # All normalized greyscale values >0.9 count as \"black\"\n",
        "  data[np.where(data > 0.9)] = 2\n",
        "  # The remaining non-zero pixel values count as \"grey\"\n",
        "  data[np.where((data > 0.0) & (data <= 0.9))] = 1\n",
        "  return data\n",
        "\n",
        "mini_train_data_2 = binarize(mini_train_data_2)\n",
        "dev_data_2 = binarize(dev_data_2)\n",
        "\n",
        "### STUDENT END ###\n",
        "\n",
        "PMultinomialNB()"
      ],
      "execution_count": 0,
      "outputs": []
    },
    {
      "cell_type": "markdown",
      "metadata": {
        "id": "qH_-xsd4LkUI",
        "colab_type": "text"
      },
      "source": [
        "ANSWER: \n",
        "  * The binarized Bernoulli Naive Bayes classifier performs better than the Gaussian Naive Bayes classifier. Apparently, the classification profits from a classifier which just distinguished between black (or grey) and white pixel values.\n",
        "  * The Multinomial Naive Bayes classifier (where I classified black as the normalized pixel values >0.9, and grey as the non-zero remainder) does not improve accuracy. Apparently the redistribution of the probabilites towards \"grey pixel\" information is not helpful for improving the classfier result. One reason for that might originate from the dataset itself, as for the identification of handwritten digits a single distinction between black and white might be sufficient (and grey values might be random artefacts, e.g. of illumination etc.)"
      ]
    },
    {
      "cell_type": "markdown",
      "metadata": {
        "id": "tnLL2tC_LkUI",
        "colab_type": "text"
      },
      "source": [
        "(8) Use GridSearchCV to perform a search over values of alpha (the Laplace smoothing parameter) in a Bernoulli NB model. What is the best value for alpha? What is the accuracy when alpha=0? Is this what you'd expect?\n",
        "\n",
        "- Note that GridSearchCV partitions the training data so the results will be a bit different than if you used the dev data for evaluation."
      ]
    },
    {
      "cell_type": "code",
      "metadata": {
        "id": "slANjobgLkUJ",
        "colab_type": "code",
        "colab": {}
      },
      "source": [
        "def P8(alphas):\n",
        "\n",
        "### STUDENT START ###\n",
        "  param_grid = [{'alpha': alphas['alpha']}]\n",
        "  bnb = BernoulliNB()\n",
        "  grid_search = GridSearchCV(bnb, param_grid, cv=5, return_train_score=False)\n",
        "  grid_search.fit(mini_train_data, mini_train_labels)\n",
        "  return grid_search\n",
        "\n",
        "### STUDENT END ###\n",
        "\n",
        "alphas = {'alpha': [0.0, 0.0001, 0.001, 0.01, 0.1, 0.5, 1.0, 2.0, 10.0]}\n",
        "nb = P8(alphas)\n",
        "print(\"Best estimator = {}\".format(nb.best_estimator_))\n",
        "print(\"Best parameter setting = {}\".format(nb.best_params_))\n",
        "print(\"Best accuracy score: {}\".format(nb.best_score_))\n",
        "\n",
        "# print(\"\\nAll test results: {}\".format(nb.cv_results_))\n",
        "\n",
        "print(\"\\nAccuracy for parameter 'alpha = 0': {}\".format(nb.cv_results_['mean_test_score'][0]))"
      ],
      "execution_count": 0,
      "outputs": []
    },
    {
      "cell_type": "markdown",
      "metadata": {
        "id": "cY4gNiuNLkUO",
        "colab_type": "text"
      },
      "source": [
        "ANSWER: Laplace smoothing adds \"pseudocounts\" of observed cases in order to allow for unforeseen events. This makes the prior distribution more uniform compared to the non-smoothed alternative. In the case above, the accuracy for alpha = 0 (no smoothing) is slightly lower, indicating that regularization does have a small effect. Our model is better able to generalize to examples which it has not seen before."
      ]
    },
    {
      "cell_type": "markdown",
      "metadata": {
        "id": "PNCf7eEKLkUP",
        "colab_type": "text"
      },
      "source": [
        "(9) Try training a model using GuassianNB, which is intended for real-valued features, and evaluate on the dev data. You'll notice that it doesn't work so well. Try to diagnose the problem. You should be able to find a simple fix that returns the accuracy to around the same rate as BernoulliNB. Explain your solution.\n",
        "\n",
        "Hint: examine the parameters estimated by the fit() method, theta\\_ and sigma\\_."
      ]
    },
    {
      "cell_type": "code",
      "metadata": {
        "id": "7mvGktkrLkUP",
        "colab_type": "code",
        "colab": {}
      },
      "source": [
        "def P9():\n",
        "\n",
        "### STUDENT START ###\n",
        "  # Fitting a Naive Bayes classifier (just to see the baseline)\n",
        "  gnb = GaussianNB()\n",
        "  gnb.fit(mini_train_data, mini_train_labels)\n",
        "  # Reporting accuracy on the dev data\n",
        "  print(\"Accuracy score of Gaussian Naive Bayes on dev data: {}\".format(gnb.score(dev_data, dev_labels)))\n",
        "  return gnb\n",
        "\n",
        "### STUDENT END ###\n",
        "\n",
        "gnb = P9()\n",
        "# print(\"Theta (mean of each feature per class) of Gaussian Naive Bayes Classifier: {}\".format(gnb.theta_))\n",
        "# print(\"Sigma (variance of feature per class) of Gaussian Naive Bayes Classifier: {}\".format(gnb.sigma_))\n",
        "# print(\"Class count (# training samples for each class): {}\".format(gnb.class_count_))\n",
        "# print(\"Probability of each class: {}\".format(gnb.class_prior_))"
      ],
      "execution_count": 0,
      "outputs": []
    },
    {
      "cell_type": "code",
      "metadata": {
        "id": "3w-6OswfrQrH",
        "colab_type": "code",
        "colab": {}
      },
      "source": [
        "def P9(smoothing_params_):\n",
        "\n",
        "### STUDENT END ###\n",
        "  # Performing grid search on the best smoothing parameters for the NB classifier\n",
        "  param_grid = [{'var_smoothing': smoothing_params}]\n",
        "  gnb = GaussianNB()\n",
        "  grid_search = GridSearchCV(gnb, param_grid, cv=5, return_train_score=False)\n",
        "  grid_search.fit(dev_data, dev_labels)\n",
        "  return grid_search\n",
        "\n",
        "### STUDENT END ###\n",
        "\n",
        "smoothing_params = [1, 0.5, 0.1, 0.01, 0.001, 0.0001, 0.00001]\n",
        "\n",
        "gnb = P9(smoothing_params)\n",
        "print(\"Best estimator = {}\".format(gnb.best_estimator_))\n",
        "print(\"Best parameter setting = {}\".format(gnb.best_params_))\n",
        "print(\"Best accuracy score: {}\".format(gnb.best_score_))"
      ],
      "execution_count": 0,
      "outputs": []
    },
    {
      "cell_type": "code",
      "metadata": {
        "id": "XdRHuS4ruTKZ",
        "colab_type": "code",
        "colab": {}
      },
      "source": [
        "def P9():\n",
        "  \n",
        "  # Fitting a Naive Bayes classifier with the smoothing parameter from grid search above\n",
        "  gnb = GaussianNB(var_smoothing=0.1)\n",
        "  gnb.fit(mini_train_data, mini_train_labels)\n",
        "  # Reporting accuracy on the dev data\n",
        "  print(\"Accuracy score of Gaussian Naive Bayes on dev data (with optimized smoothing): {}\".format(gnb.score(dev_data, dev_labels)))\n",
        "  return gnb\n",
        "\n",
        "P9()\n"
      ],
      "execution_count": 0,
      "outputs": []
    },
    {
      "cell_type": "markdown",
      "metadata": {
        "id": "-JBR4VJ6LkUR",
        "colab_type": "text"
      },
      "source": [
        "ANSWER: Looking at the parameter sigma, we find that the variance in the feature per class are extremely low, which negatively affects the classifier. Therefore, we apply smoothing. Using grid search to find the best parameter for smoothing (var_smoothing = 0.1), we were able to increase the accuracy score on the dev set from 0.59 to 0.82. Also for the naive bayes classifier, the addition of regularization allows the classifier to generalize better to new unseen examples."
      ]
    },
    {
      "cell_type": "markdown",
      "metadata": {
        "id": "VPRMFt9lLkUS",
        "colab_type": "text"
      },
      "source": [
        "(10) Because Naive Bayes is a generative model, we can use the trained model to generate digits. Train a BernoulliNB model and then generate a 10x20 grid with 20 examples of each digit. Because you're using a Bernoulli model, each pixel output will be either 0 or 1. How do the generated digits compare to the training digits?\n",
        "\n",
        "- You can use np.random.rand() to generate random numbers from a uniform distribution\n",
        "- The estimated probability of each pixel is stored in feature\\_log\\_prob\\_. You'll need to use np.exp() to convert a log probability back to a probability."
      ]
    },
    {
      "cell_type": "code",
      "metadata": {
        "id": "ToJgTdxsLkUS",
        "colab_type": "code",
        "colab": {
          "base_uri": "https://localhost:8080/",
          "height": 482
        },
        "outputId": "a9239c31-322d-4823-bfe4-0a3d09b1eb3e"
      },
      "source": [
        "def P10(num_examples):\n",
        "\n",
        "### STUDENT START ###\n",
        "\n",
        "  # Fitting Bernoulli Naive Bayes classifier, setting threshold for binarization to 0.5\n",
        "  bnb = BernoulliNB()\n",
        "  bnb.fit(mini_train_data, mini_train_labels)\n",
        "  # Extracting p-values of the classifier\n",
        "  p = np.exp(bnb.feature_log_prob_)\n",
        "  row_images = []  \n",
        "     \n",
        "  for example in range(num_examples):\n",
        "    random_numbers = np.random.rand(10,784)\n",
        "    boolean_array = p > random_numbers\n",
        "    images = [item.reshape(28,28) for item in boolean_array]\n",
        "    \n",
        "    for row in range(10):    \n",
        "      if row == 0:\n",
        "        row_images = images[0]\n",
        "      else:\n",
        "        row_images = np.concatenate((row_images, images[row]), axis = 0)\n",
        "    \n",
        "    if example == 0:\n",
        "      image = row_images\n",
        "    else:\n",
        "      image = np.concatenate((image, row_images), axis = 1)\n",
        "      \n",
        "  plt.figure(figsize=(15,15))\n",
        "  plt.imshow(image, cmap = plt.cm.binary, interpolation = 'nearest')\n",
        "  plt.title(\"Generated example images from MNIST dataset\")\n",
        "  plt.axis('off')\n",
        "  return\n",
        "\n",
        "### STUDENT END ###\n",
        "\n",
        "P10(20)"
      ],
      "execution_count": 209,
      "outputs": [
        {
          "output_type": "display_data",
          "data": {
            "image/png": "[encoded data removed]",
            "text/plain": [
              "<Figure size 1080x1080 with 1 Axes>"
            ]
          },
          "metadata": {
            "tags": []
          }
        }
      ]
    },
    {
      "cell_type": "markdown",
      "metadata": {
        "id": "ipiQxRdCLkUV",
        "colab_type": "text"
      },
      "source": [
        "ANSWER:"
      ]
    },
    {
      "cell_type": "markdown",
      "metadata": {
        "id": "ZU2voLvILkUX",
        "colab_type": "text"
      },
      "source": [
        "(11) Remember that a strongly calibrated classifier is rougly 90% accurate when the posterior probability of the predicted class is 0.9. A weakly calibrated classifier is more accurate when the posterior is 90% than when it is 80%. A poorly calibrated classifier has no positive correlation between posterior and accuracy.\n",
        "\n",
        "Train a BernoulliNB model with a reasonable alpha value. For each posterior bucket (think of a bin in a histogram), you want to estimate the classifier's accuracy. So for each prediction, find the bucket the maximum posterior belongs to and update the \"correct\" and \"total\" counters.\n",
        "\n",
        "How would you characterize the calibration for the Naive Bayes model?"
      ]
    },
    {
      "cell_type": "code",
      "metadata": {
        "id": "0dsdaxrYLkUX",
        "colab_type": "code",
        "colab": {}
      },
      "source": [
        "#def P11(buckets, correct, total):\n",
        "    \n",
        "### STUDENT START ###\n",
        "\n",
        "\n",
        "                \n",
        "### STUDENT END ###\n",
        "\n",
        "#buckets = [0.5, 0.9, 0.999, 0.99999, 0.9999999, 0.999999999, 0.99999999999, 0.9999999999999, 1.0]\n",
        "#correct = [0 for i in buckets]\n",
        "#total = [0 for i in buckets]\n",
        "\n",
        "#P11(buckets, correct, total)\n",
        "\n",
        "#for i in range(len(buckets)):\n",
        "#    accuracy = 0.0\n",
        "#    if (total[i] > 0): accuracy = correct[i] / total[i]\n",
        "#    print 'p(pred) <= %.13f    total = %3d    accuracy = %.3f' %(buckets[i], total[i], accuracy)"
      ],
      "execution_count": 0,
      "outputs": []
    },
    {
      "cell_type": "markdown",
      "metadata": {
        "id": "x44WGcXfLkUa",
        "colab_type": "text"
      },
      "source": [
        "ANSWER:"
      ]
    },
    {
      "cell_type": "markdown",
      "metadata": {
        "id": "NPCGFg_yLkUa",
        "colab_type": "text"
      },
      "source": [
        "(12) EXTRA CREDIT\n",
        "\n",
        "Try designing extra features to see if you can improve the performance of Naive Bayes on the dev set. Here are a few ideas to get you started:\n",
        "- Try summing the pixel values in each row and each column.\n",
        "- Try counting the number of enclosed regions; 8 usually has 2 enclosed regions, 9 usually has 1, and 7 usually has 0.\n",
        "\n",
        "Make sure you comment your code well!"
      ]
    },
    {
      "cell_type": "code",
      "metadata": {
        "id": "xjEcU7SULkUb",
        "colab_type": "code",
        "colab": {}
      },
      "source": [
        "#def P12():\n",
        "\n",
        "### STUDENT START ###\n",
        "\n",
        "\n",
        "### STUDENT END ###\n",
        "\n",
        "#P12()"
      ],
      "execution_count": 0,
      "outputs": []
    }
  ]
}